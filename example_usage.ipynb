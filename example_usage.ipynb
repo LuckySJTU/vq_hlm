{
 "cells": [
  {
   "cell_type": "code",
   "execution_count": 1,
   "metadata": {},
   "outputs": [],
   "source": [
    "import h5py\n",
    "import numpy as np\n",
    "\n",
    "h5filename = '/data1/public/vqhlm/wikitext103_gpt2finetuned/test.h5'"
   ]
  },
  {
   "cell_type": "markdown",
   "metadata": {},
   "source": [
    "- 模型来自 https://huggingface.co/neulab/gpt2-finetuned-wikitext103\n",
    "- 模型tokenizer和定义如下\n",
    "```\n",
    "# Load model directly\n",
    "from transformers import AutoTokenizer, AutoModelForCausalLM\n",
    "\n",
    "tokenizer = AutoTokenizer.from_pretrained(\"neulab/gpt2-finetuned-wikitext103\")\n",
    "model = AutoModelForCausalLM.from_pretrained(\"neulab/gpt2-finetuned-wikitext103\")\n",
    "```"
   ]
  },
  {
   "cell_type": "code",
   "execution_count": 2,
   "metadata": {},
   "outputs": [
    {
     "name": "stdout",
     "output_type": "stream",
     "text": [
      "Total samples in the dataset: 548\n",
      "Hidden states shape: (548, 1024, 768)\n",
      "Input IDs shape: (548, 1024)\n",
      "Labels shape: (548, 1024)\n",
      "Sample 0 - Input IDs: [  796  5199   347 ... 50256 50256 50256]\n",
      "Sample 0 - Labels: [ 796 5199  347 ... -100 -100 -100]\n",
      "Sample 0 - Hidden States: [[-1.6174933  -1.1284641   0.0215988  ... -2.2583933   1.6741287\n",
      "  -0.35499385]\n",
      " [-5.498198    2.3329258  -2.2865224  ...  0.42031875  0.07713613\n",
      "   1.1435596 ]\n",
      " [ 1.8659987   1.5455958   1.0896978  ...  3.514292   -0.08421862\n",
      "   3.3854916 ]\n",
      " ...\n",
      " [ 0.798916    2.5979886  -0.07587534 ... -0.737859   -1.1983643\n",
      "   4.190173  ]\n",
      " [ 0.7338563   2.760131   -0.01490831 ... -0.6301186  -1.1114419\n",
      "   4.6592402 ]\n",
      " [ 0.7557825   1.4493941  -3.1341372  ... -2.043258    0.9624741\n",
      "   5.8210287 ]]\n"
     ]
    }
   ],
   "source": [
    "# 读取 HDF5 文件\n",
    "with h5py.File(h5filename, 'r') as f:\n",
    "    # 读取 total_samples 元数据\n",
    "    total_samples = f.attrs['total_samples']\n",
    "    print(f\"Total samples in the dataset: {total_samples}\")\n",
    "    \n",
    "    # 读取数据集\n",
    "    hidden_states = f['hidden_states'][:]\n",
    "    input_ids = f['input_ids'][:]\n",
    "    labels = f['labels'][:]\n",
    "\n",
    "    # 打印数据集的形状，确保读取正确\n",
    "    print(f\"Hidden states shape: {hidden_states.shape}\")\n",
    "    print(f\"Input IDs shape: {input_ids.shape}\")\n",
    "    print(f\"Labels shape: {labels.shape}\")\n",
    "    \n",
    "    # 获取第一个样本的数据并展示\n",
    "    sample_idx = 0  # 举例，读取第一个样本\n",
    "    print(f\"Sample {sample_idx} - Input IDs: {input_ids[sample_idx]}\")\n",
    "    print(f\"Sample {sample_idx} - Labels: {labels[sample_idx]}\")\n",
    "    \n",
    "    # 获取对应的 hidden states (flattened)\n",
    "    print(f\"Sample {sample_idx} - Hidden States: {hidden_states[sample_idx]}\")"
   ]
  }
 ],
 "metadata": {
  "kernelspec": {
   "display_name": "vqhlm",
   "language": "python",
   "name": "python3"
  },
  "language_info": {
   "codemirror_mode": {
    "name": "ipython",
    "version": 3
   },
   "file_extension": ".py",
   "mimetype": "text/x-python",
   "name": "python",
   "nbconvert_exporter": "python",
   "pygments_lexer": "ipython3",
   "version": "3.9.20"
  }
 },
 "nbformat": 4,
 "nbformat_minor": 2
}
